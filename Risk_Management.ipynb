{
  "nbformat": 4,
  "nbformat_minor": 0,
  "metadata": {
    "colab": {
      "provenance": [],
      "authorship_tag": "ABX9TyMhHdNDHlBC8kFJU1IAE6qL",
      "include_colab_link": true
    },
    "kernelspec": {
      "name": "python3",
      "display_name": "Python 3"
    },
    "language_info": {
      "name": "python"
    }
  },
  "cells": [
    {
      "cell_type": "markdown",
      "metadata": {
        "id": "view-in-github",
        "colab_type": "text"
      },
      "source": [
        "<a href=\"https://colab.research.google.com/github/prahlad-pallav/Stock_Market_Analysis/blob/main/Risk_Management.ipynb\" target=\"_parent\"><img src=\"https://colab.research.google.com/assets/colab-badge.svg\" alt=\"Open In Colab\"/></a>"
      ]
    },
    {
      "cell_type": "code",
      "source": [
        "import yfinance as yf\n",
        "import numpy as np\n",
        "\n",
        "# Fetch historical data for NIFTY 50 Index\n",
        "data = yf.download(\"^NSEI\", start=\"2023-01-01\", end=\"2024-01-01\")['Close']\n",
        "\n",
        "# Calculate daily returns\n",
        "returns = data.pct_change().dropna()\n",
        "\n",
        "# Annualized metrics\n",
        "mean_return = returns.mean() * 252\n",
        "std_dev = returns.std() * np.sqrt(252)\n",
        "risk_free_rate = 0.05  # 5% annual risk-free rate\n",
        "\n",
        "# Sharpe Ratio\n",
        "sharpe_ratio = (mean_return - risk_free_rate) / std_dev\n",
        "print(\"Sharpe Ratio:\", sharpe_ratio.values[0])\n",
        "\n"
      ],
      "metadata": {
        "colab": {
          "base_uri": "https://localhost:8080/"
        },
        "id": "I7IOyTIITt4z",
        "outputId": "20b5f879-afe2-4755-98e4-203fa6bc520a"
      },
      "execution_count": 12,
      "outputs": [
        {
          "output_type": "stream",
          "name": "stderr",
          "text": [
            "/tmp/ipython-input-12-516828200.py:5: FutureWarning: YF.download() has changed argument auto_adjust default to True\n",
            "  data = yf.download(\"^NSEI\", start=\"2023-01-01\", end=\"2024-01-01\")['Close']\n",
            "\r[*********************100%***********************]  1 of 1 completed"
          ]
        },
        {
          "output_type": "stream",
          "name": "stdout",
          "text": [
            "Sharpe Ratio: 1.4062101178695612\n"
          ]
        },
        {
          "output_type": "stream",
          "name": "stderr",
          "text": [
            "\n"
          ]
        }
      ]
    },
    {
      "cell_type": "code",
      "source": [],
      "metadata": {
        "id": "8qTRIxd-TuOv"
      },
      "execution_count": null,
      "outputs": []
    }
  ]
}